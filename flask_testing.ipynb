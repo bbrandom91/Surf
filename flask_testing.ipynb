{
 "cells": [
  {
   "cell_type": "code",
   "execution_count": 1,
   "metadata": {
    "collapsed": true
   },
   "outputs": [],
   "source": [
    "import sqlalchemy\n",
    "from sqlalchemy.ext.automap import automap_base\n",
    "from sqlalchemy.orm import Session\n",
    "from sqlalchemy import create_engine, func\n",
    "\n",
    "from flask import Flask, jsonify"
   ]
  },
  {
   "cell_type": "code",
   "execution_count": 2,
   "metadata": {
    "collapsed": true
   },
   "outputs": [],
   "source": [
    "engine = create_engine(\"sqlite:///temp.sqlite\")\n",
    "\n",
    "Base = automap_base()\n",
    "\n",
    "Base.prepare(engine, reflect=True)\n",
    "\n",
    "session = Session(engine)"
   ]
  },
  {
   "cell_type": "code",
   "execution_count": 16,
   "metadata": {},
   "outputs": [],
   "source": [
    "#precipitation query(I think the instructions have an error)\n",
    "result = engine.execute(\" SELECT date, prcp FROM measurement WHERE date > '2017-01-01' AND date < '2018-01-01' \")\n",
    "precip_dict = {r.date : r.prcp for r in result}\n"
   ]
  },
  {
   "cell_type": "code",
   "execution_count": 14,
   "metadata": {},
   "outputs": [],
   "source": [
    "#stations query\n",
    "result = engine.execute(\" SELECT station from station \")\n",
    "station_list = [r.station for r in result]\n",
    "stations = {\"station list\": station_list}"
   ]
  },
  {
   "cell_type": "code",
   "execution_count": 28,
   "metadata": {},
   "outputs": [],
   "source": [
    "#temperature query\n",
    "result = engine.execute(\" SELECT date, tobs FROM measurement WHERE date > '2017-01-01' AND date < '2018-01-01' \")\n",
    "temp_dict = {r.date : r.tobs for r in result}"
   ]
  },
  {
   "cell_type": "code",
   "execution_count": 48,
   "metadata": {},
   "outputs": [],
   "source": [
    "#another temp query: start date only\n",
    "start = \"'2013-01-01'\"\n",
    "query = \"SELECT MAX(tobs) AS max_temp, MIN(tobs) AS min_temp, AVG(tobs) AS avg_temp \\\n",
    "FROM measurement WHERE date >= %s \"%(start)\n",
    "result = engine.execute(query)\n",
    "temp_return = [[r.max_temp, r.min_temp, r.avg_temp] for r in result  ][0]"
   ]
  },
  {
   "cell_type": "code",
   "execution_count": 50,
   "metadata": {},
   "outputs": [],
   "source": [
    "#another temp query: start and end dates\n",
    "start = \"'2016-01-01'\"\n",
    "end = \" '2017-01-01' \"\n",
    "query = \"SELECT MAX(tobs) AS max_temp, MIN(tobs) AS min_temp, AVG(tobs) AS avg_temp \\\n",
    "FROM measurement WHERE date >= %s AND date <= %s \"%(start, end)\n",
    "result = engine.execute(query)\n",
    "temp_return = [[r.max_temp, r.min_temp, r.avg_temp] for r in result  ][0]\n"
   ]
  },
  {
   "cell_type": "code",
   "execution_count": 51,
   "metadata": {},
   "outputs": [
    {
     "data": {
      "text/plain": [
       "[84, 56, 74.0718418514947]"
      ]
     },
     "execution_count": 51,
     "metadata": {},
     "output_type": "execute_result"
    }
   ],
   "source": [
    "temp_return"
   ]
  },
  {
   "cell_type": "code",
   "execution_count": null,
   "metadata": {
    "collapsed": true
   },
   "outputs": [],
   "source": []
  }
 ],
 "metadata": {
  "kernelspec": {
   "display_name": "Python 3",
   "language": "python",
   "name": "python3"
  },
  "language_info": {
   "codemirror_mode": {
    "name": "ipython",
    "version": 3
   },
   "file_extension": ".py",
   "mimetype": "text/x-python",
   "name": "python",
   "nbconvert_exporter": "python",
   "pygments_lexer": "ipython3",
   "version": "3.6.2"
  }
 },
 "nbformat": 4,
 "nbformat_minor": 2
}

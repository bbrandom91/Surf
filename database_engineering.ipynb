{
 "cells": [
  {
   "cell_type": "code",
   "execution_count": 1,
   "metadata": {
    "collapsed": true
   },
   "outputs": [],
   "source": [
    "from sqlalchemy import create_engine, Column, Integer, Float, String, ForeignKey\n",
    "from sqlalchemy.ext.declarative import declarative_base\n",
    "from sqlalchemy.orm import sessionmaker, relationship\n",
    "import pandas as pd\n",
    "import numpy as np\n",
    "\n",
    "Base = declarative_base()"
   ]
  },
  {
   "cell_type": "code",
   "execution_count": 2,
   "metadata": {
    "collapsed": true
   },
   "outputs": [],
   "source": [
    "stations_clean = pd.read_csv(\"clean_hawaii_stations.csv\")\n",
    "measurements_clean = pd.read_csv(\"clean_hawaii_measurements.csv\")"
   ]
  },
  {
   "cell_type": "code",
   "execution_count": 3,
   "metadata": {
    "collapsed": true
   },
   "outputs": [],
   "source": [
    "\n",
    "class Station(Base):\n",
    "\t__tablename__ = \"station\"\n",
    "\n",
    "\tid = Column( 'id', Integer, primary_key = True )\n",
    "\tstation = Column( 'station', String )\n",
    "\tname = Column( 'name', String )\n",
    "\tlatitude = Column( 'latitude', Float )\n",
    "\tlongitude = Column( 'longitude', Float )\n",
    "\televation = Column( 'elevation', Float )\n",
    "\n",
    "class Measurement(Base):\n",
    "\t__tablename__ = \"measurement\"\n",
    "\n",
    "\tid = Column( 'id', Integer, primary_key = True )\n",
    "\tstation = Column( 'station', String )\n",
    "\tdate = Column( 'date', String )\n",
    "\tprcp = Column( 'prcp', Float )\n",
    "\ttobs = Column( 'tobs', Integer )"
   ]
  },
  {
   "cell_type": "code",
   "execution_count": 4,
   "metadata": {},
   "outputs": [
    {
     "name": "stdout",
     "output_type": "stream",
     "text": [
      "2018-01-25 13:37:42,425 INFO sqlalchemy.engine.base.Engine SELECT CAST('test plain returns' AS VARCHAR(60)) AS anon_1\n",
      "2018-01-25 13:37:42,427 INFO sqlalchemy.engine.base.Engine ()\n",
      "2018-01-25 13:37:42,429 INFO sqlalchemy.engine.base.Engine SELECT CAST('test unicode returns' AS VARCHAR(60)) AS anon_1\n",
      "2018-01-25 13:37:42,431 INFO sqlalchemy.engine.base.Engine ()\n",
      "2018-01-25 13:37:42,435 INFO sqlalchemy.engine.base.Engine PRAGMA table_info(\"station\")\n",
      "2018-01-25 13:37:42,437 INFO sqlalchemy.engine.base.Engine ()\n",
      "2018-01-25 13:37:42,442 INFO sqlalchemy.engine.base.Engine PRAGMA table_info(\"measurement\")\n",
      "2018-01-25 13:37:42,444 INFO sqlalchemy.engine.base.Engine ()\n",
      "2018-01-25 13:37:42,450 INFO sqlalchemy.engine.base.Engine \n",
      "CREATE TABLE station (\n",
      "\tid INTEGER NOT NULL, \n",
      "\tstation VARCHAR, \n",
      "\tname VARCHAR, \n",
      "\tlatitude FLOAT, \n",
      "\tlongitude FLOAT, \n",
      "\televation FLOAT, \n",
      "\tPRIMARY KEY (id)\n",
      ")\n",
      "\n",
      "\n",
      "2018-01-25 13:37:42,452 INFO sqlalchemy.engine.base.Engine ()\n",
      "2018-01-25 13:37:42,459 INFO sqlalchemy.engine.base.Engine COMMIT\n",
      "2018-01-25 13:37:42,462 INFO sqlalchemy.engine.base.Engine \n",
      "CREATE TABLE measurement (\n",
      "\tid INTEGER NOT NULL, \n",
      "\tstation VARCHAR, \n",
      "\tdate VARCHAR, \n",
      "\tprcp FLOAT, \n",
      "\ttobs INTEGER, \n",
      "\tPRIMARY KEY (id)\n",
      ")\n",
      "\n",
      "\n",
      "2018-01-25 13:37:42,465 INFO sqlalchemy.engine.base.Engine ()\n",
      "2018-01-25 13:37:42,470 INFO sqlalchemy.engine.base.Engine COMMIT\n"
     ]
    }
   ],
   "source": [
    "engine = create_engine('sqlite:///temp.sqlite', echo = True)\n",
    "Base.metadata.create_all(bind=engine)\n",
    "Session = sessionmaker(bind=engine)\n",
    "\n",
    "session = Session()"
   ]
  },
  {
   "cell_type": "code",
   "execution_count": 5,
   "metadata": {},
   "outputs": [],
   "source": [
    "my_stations_list = []\n",
    "for j in range( len( stations_clean['index'] ) ):\n",
    "    station_temp = Station()\n",
    "    station_temp.id = int(stations_clean['index'][j])\n",
    "    station_temp.station = stations_clean['station'][j]\n",
    "    station_temp.name = stations_clean['name'][j]\n",
    "    station_temp.latitude = float(stations_clean['latitude'][j])\n",
    "    station_temp.longitude = float(stations_clean['longitude'][j])\n",
    "    station_temp.elevation = float(stations_clean['elevation'][j])\n",
    "    my_stations_list.append(station_temp)\n",
    "\n",
    "my_measurement_list = []\n",
    "for j in range( len(  measurements_clean['index'] )  ):\n",
    "\tmeasurement_temp = Measurement()\n",
    "\tmeasurement_temp.id = int(measurements_clean['index'][j])\n",
    "\tmeasurement_temp.station = measurements_clean['station'][j]\n",
    "\tmeasurement_temp.date = measurements_clean['date'][j]\n",
    "\tmeasurement_temp.prcp = float(measurements_clean['prcp'][j])\n",
    "\tmeasurement_temp.tobs = int(measurements_clean['tobs'][j])\n",
    "\tmy_measurement_list.append(measurement_temp)"
   ]
  },
  {
   "cell_type": "code",
   "execution_count": 6,
   "metadata": {},
   "outputs": [
    {
     "name": "stdout",
     "output_type": "stream",
     "text": [
      "2018-01-25 13:37:46,393 INFO sqlalchemy.engine.base.Engine BEGIN (implicit)\n",
      "2018-01-25 13:37:46,779 INFO sqlalchemy.engine.base.Engine INSERT INTO measurement (id, station, date, prcp, tobs) VALUES (?, ?, ?, ?, ?)\n",
      "2018-01-25 13:37:46,781 INFO sqlalchemy.engine.base.Engine ((0, 'USC00519397', '2010-01-01', 0.08, 65), (1, 'USC00519397', '2010-01-02', 0.0, 63), (2, 'USC00519397', '2010-01-03', 0.0, 74), (3, 'USC00519397', '2010-01-04', 0.0, 76), (5, 'USC00519397', '2010-01-07', 0.06, 70), (6, 'USC00519397', '2010-01-08', 0.0, 64), (7, 'USC00519397', '2010-01-09', 0.0, 68), (8, 'USC00519397', '2010-01-10', 0.0, 73)  ... displaying 10 of 18103 total bound parameter sets ...  (19548, 'USC00516128', '2017-08-22', 0.5, 76), (19549, 'USC00516128', '2017-08-23', 0.45, 76))\n",
      "2018-01-25 13:37:46,892 INFO sqlalchemy.engine.base.Engine INSERT INTO station (id, station, name, latitude, longitude, elevation) VALUES (?, ?, ?, ?, ?, ?)\n",
      "2018-01-25 13:37:46,893 INFO sqlalchemy.engine.base.Engine ((0, 'USC00519397', 'WAIKIKI 717.2, HI US', 21.2716, -157.8168, 3.0), (1, 'USC00513117', 'KANEOHE 838.1, HI US', 21.4234, -157.8015, 14.6), (2, 'USC00514830', 'KUALOA RANCH HEADQUARTERS 886.9, HI US', 21.5213, -157.8374, 7.0), (3, 'USC00517948', 'PEARL CITY, HI US', 21.3934, -157.9751, 11.9), (4, 'USC00518838', 'UPPER WAHIAWA 874.3, HI US', 21.4992, -158.0111, 306.6), (5, 'USC00519523', 'WAIMANALO EXPERIMENTAL FARM, HI US', 21.33556, -157.71139, 19.5), (6, 'USC00519281', 'WAIHEE 837.5, HI US', 21.45167, -157.84888999999995, 32.9), (7, 'USC00511918', 'HONOLULU OBSERVATORY 702.2, HI US', 21.3152, -157.9992, 0.9), (8, 'USC00516128', 'MANOA LYON ARBO 785.2, HI US', 21.3331, -157.8025, 152.4))\n",
      "2018-01-25 13:37:47,134 INFO sqlalchemy.engine.base.Engine COMMIT\n"
     ]
    }
   ],
   "source": [
    "session.add_all(my_stations_list)\n",
    "session.add_all(my_measurement_list)\n",
    "\n",
    "session.commit()"
   ]
  },
  {
   "cell_type": "code",
   "execution_count": 7,
   "metadata": {},
   "outputs": [
    {
     "name": "stdout",
     "output_type": "stream",
     "text": [
      "2018-01-25 13:37:53,180 INFO sqlalchemy.engine.base.Engine BEGIN (implicit)\n",
      "2018-01-25 13:37:53,183 INFO sqlalchemy.engine.base.Engine SELECT station.id AS station_id, station.station AS station_station, station.name AS station_name, station.latitude AS station_latitude, station.longitude AS station_longitude, station.elevation AS station_elevation \n",
      "FROM station\n",
      "2018-01-25 13:37:53,185 INFO sqlalchemy.engine.base.Engine ()\n",
      "USC00519397\n",
      "USC00513117\n",
      "USC00514830\n",
      "USC00517948\n",
      "USC00518838\n",
      "USC00519523\n",
      "USC00519281\n",
      "USC00511918\n",
      "USC00516128\n"
     ]
    }
   ],
   "source": [
    "\n",
    "stations = session.query(Station).all()\n",
    "for station in stations:\n",
    "    print(station.station)"
   ]
  },
  {
   "cell_type": "code",
   "execution_count": 8,
   "metadata": {},
   "outputs": [
    {
     "name": "stdout",
     "output_type": "stream",
     "text": [
      "2018-01-25 13:37:57,378 INFO sqlalchemy.engine.base.Engine ROLLBACK\n"
     ]
    }
   ],
   "source": [
    "session.close()\n"
   ]
  },
  {
   "cell_type": "code",
   "execution_count": null,
   "metadata": {},
   "outputs": [],
   "source": []
  },
  {
   "cell_type": "code",
   "execution_count": null,
   "metadata": {
    "collapsed": true
   },
   "outputs": [],
   "source": []
  }
 ],
 "metadata": {
  "kernelspec": {
   "display_name": "Python 3",
   "language": "python",
   "name": "python3"
  },
  "language_info": {
   "codemirror_mode": {
    "name": "ipython",
    "version": 3
   },
   "file_extension": ".py",
   "mimetype": "text/x-python",
   "name": "python",
   "nbconvert_exporter": "python",
   "pygments_lexer": "ipython3",
   "version": "3.6.2"
  }
 },
 "nbformat": 4,
 "nbformat_minor": 2
}

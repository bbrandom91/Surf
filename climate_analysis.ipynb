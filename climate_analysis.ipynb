{
 "cells": [
  {
   "cell_type": "code",
   "execution_count": 57,
   "metadata": {
    "collapsed": true
   },
   "outputs": [],
   "source": [
    "import sqlalchemy\n",
    "from sqlalchemy.ext.automap import automap_base\n",
    "from sqlalchemy.orm import Session\n",
    "from sqlalchemy import create_engine\n",
    "import pandas as pd"
   ]
  },
  {
   "cell_type": "code",
   "execution_count": 2,
   "metadata": {
    "collapsed": true
   },
   "outputs": [],
   "source": [
    "engine = create_engine('sqlite:///temp.sqlite', echo = True)"
   ]
  },
  {
   "cell_type": "code",
   "execution_count": 4,
   "metadata": {
    "collapsed": true
   },
   "outputs": [],
   "source": [
    "Base = automap_base()"
   ]
  },
  {
   "cell_type": "code",
   "execution_count": 5,
   "metadata": {},
   "outputs": [
    {
     "name": "stdout",
     "output_type": "stream",
     "text": [
      "2018-01-25 14:47:02,559 INFO sqlalchemy.engine.base.Engine SELECT CAST('test plain returns' AS VARCHAR(60)) AS anon_1\n",
      "2018-01-25 14:47:02,562 INFO sqlalchemy.engine.base.Engine ()\n",
      "2018-01-25 14:47:02,565 INFO sqlalchemy.engine.base.Engine SELECT CAST('test unicode returns' AS VARCHAR(60)) AS anon_1\n",
      "2018-01-25 14:47:02,567 INFO sqlalchemy.engine.base.Engine ()\n",
      "2018-01-25 14:47:02,571 INFO sqlalchemy.engine.base.Engine SELECT name FROM sqlite_master WHERE type='table' ORDER BY name\n",
      "2018-01-25 14:47:02,572 INFO sqlalchemy.engine.base.Engine ()\n",
      "2018-01-25 14:47:02,577 INFO sqlalchemy.engine.base.Engine PRAGMA table_info(\"measurement\")\n",
      "2018-01-25 14:47:02,580 INFO sqlalchemy.engine.base.Engine ()\n",
      "2018-01-25 14:47:02,584 INFO sqlalchemy.engine.base.Engine SELECT sql FROM  (SELECT * FROM sqlite_master UNION ALL   SELECT * FROM sqlite_temp_master) WHERE name = 'measurement' AND type = 'table'\n",
      "2018-01-25 14:47:02,586 INFO sqlalchemy.engine.base.Engine ()\n",
      "2018-01-25 14:47:02,590 INFO sqlalchemy.engine.base.Engine PRAGMA foreign_key_list(\"measurement\")\n",
      "2018-01-25 14:47:02,592 INFO sqlalchemy.engine.base.Engine ()\n",
      "2018-01-25 14:47:02,595 INFO sqlalchemy.engine.base.Engine SELECT sql FROM  (SELECT * FROM sqlite_master UNION ALL   SELECT * FROM sqlite_temp_master) WHERE name = 'measurement' AND type = 'table'\n",
      "2018-01-25 14:47:02,598 INFO sqlalchemy.engine.base.Engine ()\n",
      "2018-01-25 14:47:02,603 INFO sqlalchemy.engine.base.Engine PRAGMA index_list(\"measurement\")\n",
      "2018-01-25 14:47:02,605 INFO sqlalchemy.engine.base.Engine ()\n",
      "2018-01-25 14:47:02,607 INFO sqlalchemy.engine.base.Engine PRAGMA index_list(\"measurement\")\n",
      "2018-01-25 14:47:02,608 INFO sqlalchemy.engine.base.Engine ()\n",
      "2018-01-25 14:47:02,612 INFO sqlalchemy.engine.base.Engine SELECT sql FROM  (SELECT * FROM sqlite_master UNION ALL   SELECT * FROM sqlite_temp_master) WHERE name = 'measurement' AND type = 'table'\n",
      "2018-01-25 14:47:02,616 INFO sqlalchemy.engine.base.Engine ()\n",
      "2018-01-25 14:47:02,622 INFO sqlalchemy.engine.base.Engine PRAGMA table_info(\"station\")\n",
      "2018-01-25 14:47:02,624 INFO sqlalchemy.engine.base.Engine ()\n",
      "2018-01-25 14:47:02,627 INFO sqlalchemy.engine.base.Engine SELECT sql FROM  (SELECT * FROM sqlite_master UNION ALL   SELECT * FROM sqlite_temp_master) WHERE name = 'station' AND type = 'table'\n",
      "2018-01-25 14:47:02,630 INFO sqlalchemy.engine.base.Engine ()\n",
      "2018-01-25 14:47:02,633 INFO sqlalchemy.engine.base.Engine PRAGMA foreign_key_list(\"station\")\n",
      "2018-01-25 14:47:02,635 INFO sqlalchemy.engine.base.Engine ()\n",
      "2018-01-25 14:47:02,638 INFO sqlalchemy.engine.base.Engine SELECT sql FROM  (SELECT * FROM sqlite_master UNION ALL   SELECT * FROM sqlite_temp_master) WHERE name = 'station' AND type = 'table'\n",
      "2018-01-25 14:47:02,640 INFO sqlalchemy.engine.base.Engine ()\n",
      "2018-01-25 14:47:02,641 INFO sqlalchemy.engine.base.Engine PRAGMA index_list(\"station\")\n",
      "2018-01-25 14:47:02,643 INFO sqlalchemy.engine.base.Engine ()\n",
      "2018-01-25 14:47:02,647 INFO sqlalchemy.engine.base.Engine PRAGMA index_list(\"station\")\n",
      "2018-01-25 14:47:02,649 INFO sqlalchemy.engine.base.Engine ()\n",
      "2018-01-25 14:47:02,652 INFO sqlalchemy.engine.base.Engine SELECT sql FROM  (SELECT * FROM sqlite_master UNION ALL   SELECT * FROM sqlite_temp_master) WHERE name = 'station' AND type = 'table'\n",
      "2018-01-25 14:47:02,654 INFO sqlalchemy.engine.base.Engine ()\n"
     ]
    }
   ],
   "source": [
    "Base.prepare(engine, reflect=True)"
   ]
  },
  {
   "cell_type": "code",
   "execution_count": 6,
   "metadata": {},
   "outputs": [
    {
     "data": {
      "text/plain": [
       "['measurement', 'station']"
      ]
     },
     "execution_count": 6,
     "metadata": {},
     "output_type": "execute_result"
    }
   ],
   "source": [
    "Base.classes.keys()"
   ]
  },
  {
   "cell_type": "code",
   "execution_count": 7,
   "metadata": {
    "collapsed": true
   },
   "outputs": [],
   "source": [
    "Measurement = Base.classes.measurement\n",
    "Station = Base.classes.station"
   ]
  },
  {
   "cell_type": "markdown",
   "metadata": {},
   "source": [
    "## Precipitation Analysis"
   ]
  },
  {
   "cell_type": "code",
   "execution_count": 58,
   "metadata": {},
   "outputs": [
    {
     "name": "stdout",
     "output_type": "stream",
     "text": [
      "2018-01-25 16:24:37,265 INFO sqlalchemy.engine.base.Engine SELECT date, prcp FROM measurement WHERE date LIKE '2017%' OR date LIKE '2016-12%' OR date LIKE '2016-11%' OR date LIKE '2016-10%' OR date LIKE '2016-09%' OR date LIKE '2016-08%' LIMIT 10  \n",
      "2018-01-25 16:24:37,269 INFO sqlalchemy.engine.base.Engine ()\n"
     ]
    }
   ],
   "source": [
    "query = \"SELECT date, prcp \\\n",
    "FROM measurement \\\n",
    "WHERE date LIKE '2017%' OR date LIKE '2016-12%' OR date LIKE '2016-11%' OR date LIKE '2016-10%' \\\n",
    "OR date LIKE '2016-09%' OR date LIKE '2016-08%' \\\n",
    "LIMIT 10  \"\n",
    "result = engine.execute(query)"
   ]
  },
  {
   "cell_type": "code",
   "execution_count": 59,
   "metadata": {},
   "outputs": [
    {
     "name": "stdout",
     "output_type": "stream",
     "text": [
      "2016-08-01\n",
      "2016-08-02\n",
      "2016-08-03\n",
      "2016-08-04\n",
      "2016-08-05\n",
      "2016-08-06\n",
      "2016-08-07\n",
      "2016-08-08\n",
      "2016-08-09\n",
      "2016-08-10\n"
     ]
    }
   ],
   "source": [
    "for r in result:\n",
    "    print(r.date)"
   ]
  },
  {
   "cell_type": "code",
   "execution_count": 60,
   "metadata": {},
   "outputs": [
    {
     "name": "stdout",
     "output_type": "stream",
     "text": [
      "2018-01-25 16:25:08,840 INFO sqlalchemy.engine.base.Engine PRAGMA table_info(\"SELECT date, prcp FROM measurement WHERE date LIKE '2017%' OR date LIKE '2016-12%' OR date LIKE '2016-11%' OR date LIKE '2016-10%' OR date LIKE '2016-09%' OR date LIKE '2016-08%' LIMIT 10  \")\n",
      "2018-01-25 16:25:08,843 INFO sqlalchemy.engine.base.Engine ()\n",
      "2018-01-25 16:25:08,845 INFO sqlalchemy.engine.base.Engine SELECT date, prcp FROM measurement WHERE date LIKE '2017%' OR date LIKE '2016-12%' OR date LIKE '2016-11%' OR date LIKE '2016-10%' OR date LIKE '2016-09%' OR date LIKE '2016-08%' LIMIT 10  \n",
      "2018-01-25 16:25:08,847 INFO sqlalchemy.engine.base.Engine ()\n"
     ]
    }
   ],
   "source": [
    "my_df = pd.read_sql(query, engine)"
   ]
  },
  {
   "cell_type": "code",
   "execution_count": 61,
   "metadata": {},
   "outputs": [
    {
     "data": {
      "text/html": [
       "<div>\n",
       "<style>\n",
       "    .dataframe thead tr:only-child th {\n",
       "        text-align: right;\n",
       "    }\n",
       "\n",
       "    .dataframe thead th {\n",
       "        text-align: left;\n",
       "    }\n",
       "\n",
       "    .dataframe tbody tr th {\n",
       "        vertical-align: top;\n",
       "    }\n",
       "</style>\n",
       "<table border=\"1\" class=\"dataframe\">\n",
       "  <thead>\n",
       "    <tr style=\"text-align: right;\">\n",
       "      <th></th>\n",
       "      <th>date</th>\n",
       "      <th>prcp</th>\n",
       "    </tr>\n",
       "  </thead>\n",
       "  <tbody>\n",
       "    <tr>\n",
       "      <th>0</th>\n",
       "      <td>2016-08-01</td>\n",
       "      <td>0.08</td>\n",
       "    </tr>\n",
       "    <tr>\n",
       "      <th>1</th>\n",
       "      <td>2016-08-02</td>\n",
       "      <td>0.05</td>\n",
       "    </tr>\n",
       "    <tr>\n",
       "      <th>2</th>\n",
       "      <td>2016-08-03</td>\n",
       "      <td>0.00</td>\n",
       "    </tr>\n",
       "    <tr>\n",
       "      <th>3</th>\n",
       "      <td>2016-08-04</td>\n",
       "      <td>0.04</td>\n",
       "    </tr>\n",
       "    <tr>\n",
       "      <th>4</th>\n",
       "      <td>2016-08-05</td>\n",
       "      <td>0.01</td>\n",
       "    </tr>\n",
       "  </tbody>\n",
       "</table>\n",
       "</div>"
      ],
      "text/plain": [
       "         date  prcp\n",
       "0  2016-08-01  0.08\n",
       "1  2016-08-02  0.05\n",
       "2  2016-08-03  0.00\n",
       "3  2016-08-04  0.04\n",
       "4  2016-08-05  0.01"
      ]
     },
     "execution_count": 61,
     "metadata": {},
     "output_type": "execute_result"
    }
   ],
   "source": [
    "my_df.head()"
   ]
  },
  {
   "cell_type": "code",
   "execution_count": null,
   "metadata": {
    "collapsed": true
   },
   "outputs": [],
   "source": []
  }
 ],
 "metadata": {
  "kernelspec": {
   "display_name": "Python 3",
   "language": "python",
   "name": "python3"
  },
  "language_info": {
   "codemirror_mode": {
    "name": "ipython",
    "version": 3
   },
   "file_extension": ".py",
   "mimetype": "text/x-python",
   "name": "python",
   "nbconvert_exporter": "python",
   "pygments_lexer": "ipython3",
   "version": "3.6.2"
  }
 },
 "nbformat": 4,
 "nbformat_minor": 2
}

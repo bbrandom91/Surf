{
 "cells": [
  {
   "cell_type": "code",
   "execution_count": 1,
   "metadata": {
    "collapsed": true
   },
   "outputs": [],
   "source": [
    "import sqlalchemy\n",
    "from sqlalchemy.ext.automap import automap_base\n",
    "from sqlalchemy.orm import Session\n",
    "from sqlalchemy import func\n",
    "from sqlalchemy import create_engine\n",
    "import pandas as pd\n",
    "import matplotlib.pyplot as plt\n",
    "import seaborn as sns\n",
    "from datetime import datetime"
   ]
  },
  {
   "cell_type": "code",
   "execution_count": 2,
   "metadata": {
    "collapsed": true
   },
   "outputs": [],
   "source": [
    "engine = create_engine('sqlite:///hawaii.sqlite', echo = True)"
   ]
  },
  {
   "cell_type": "code",
   "execution_count": 3,
   "metadata": {
    "collapsed": true
   },
   "outputs": [],
   "source": [
    "Base = automap_base()"
   ]
  },
  {
   "cell_type": "code",
   "execution_count": 4,
   "metadata": {},
   "outputs": [
    {
     "name": "stdout",
     "output_type": "stream",
     "text": [
      "2018-01-28 13:50:17,899 INFO sqlalchemy.engine.base.Engine SELECT CAST('test plain returns' AS VARCHAR(60)) AS anon_1\n",
      "2018-01-28 13:50:17,903 INFO sqlalchemy.engine.base.Engine ()\n",
      "2018-01-28 13:50:17,907 INFO sqlalchemy.engine.base.Engine SELECT CAST('test unicode returns' AS VARCHAR(60)) AS anon_1\n",
      "2018-01-28 13:50:17,909 INFO sqlalchemy.engine.base.Engine ()\n",
      "2018-01-28 13:50:17,912 INFO sqlalchemy.engine.base.Engine SELECT name FROM sqlite_master WHERE type='table' ORDER BY name\n",
      "2018-01-28 13:50:17,915 INFO sqlalchemy.engine.base.Engine ()\n",
      "2018-01-28 13:50:17,921 INFO sqlalchemy.engine.base.Engine PRAGMA table_info(\"measurement\")\n",
      "2018-01-28 13:50:17,925 INFO sqlalchemy.engine.base.Engine ()\n",
      "2018-01-28 13:50:17,928 INFO sqlalchemy.engine.base.Engine SELECT sql FROM  (SELECT * FROM sqlite_master UNION ALL   SELECT * FROM sqlite_temp_master) WHERE name = 'measurement' AND type = 'table'\n",
      "2018-01-28 13:50:17,930 INFO sqlalchemy.engine.base.Engine ()\n",
      "2018-01-28 13:50:17,935 INFO sqlalchemy.engine.base.Engine PRAGMA foreign_key_list(\"measurement\")\n",
      "2018-01-28 13:50:17,938 INFO sqlalchemy.engine.base.Engine ()\n",
      "2018-01-28 13:50:17,940 INFO sqlalchemy.engine.base.Engine SELECT sql FROM  (SELECT * FROM sqlite_master UNION ALL   SELECT * FROM sqlite_temp_master) WHERE name = 'measurement' AND type = 'table'\n",
      "2018-01-28 13:50:17,942 INFO sqlalchemy.engine.base.Engine ()\n",
      "2018-01-28 13:50:17,948 INFO sqlalchemy.engine.base.Engine PRAGMA index_list(\"measurement\")\n",
      "2018-01-28 13:50:17,950 INFO sqlalchemy.engine.base.Engine ()\n",
      "2018-01-28 13:50:17,954 INFO sqlalchemy.engine.base.Engine PRAGMA index_list(\"measurement\")\n",
      "2018-01-28 13:50:17,957 INFO sqlalchemy.engine.base.Engine ()\n",
      "2018-01-28 13:50:17,960 INFO sqlalchemy.engine.base.Engine SELECT sql FROM  (SELECT * FROM sqlite_master UNION ALL   SELECT * FROM sqlite_temp_master) WHERE name = 'measurement' AND type = 'table'\n",
      "2018-01-28 13:50:17,962 INFO sqlalchemy.engine.base.Engine ()\n",
      "2018-01-28 13:50:17,968 INFO sqlalchemy.engine.base.Engine PRAGMA table_info(\"station\")\n",
      "2018-01-28 13:50:17,972 INFO sqlalchemy.engine.base.Engine ()\n",
      "2018-01-28 13:50:17,975 INFO sqlalchemy.engine.base.Engine SELECT sql FROM  (SELECT * FROM sqlite_master UNION ALL   SELECT * FROM sqlite_temp_master) WHERE name = 'station' AND type = 'table'\n",
      "2018-01-28 13:50:17,977 INFO sqlalchemy.engine.base.Engine ()\n",
      "2018-01-28 13:50:17,982 INFO sqlalchemy.engine.base.Engine PRAGMA foreign_key_list(\"station\")\n",
      "2018-01-28 13:50:17,984 INFO sqlalchemy.engine.base.Engine ()\n",
      "2018-01-28 13:50:17,988 INFO sqlalchemy.engine.base.Engine SELECT sql FROM  (SELECT * FROM sqlite_master UNION ALL   SELECT * FROM sqlite_temp_master) WHERE name = 'station' AND type = 'table'\n",
      "2018-01-28 13:50:17,991 INFO sqlalchemy.engine.base.Engine ()\n",
      "2018-01-28 13:50:17,993 INFO sqlalchemy.engine.base.Engine PRAGMA index_list(\"station\")\n",
      "2018-01-28 13:50:17,995 INFO sqlalchemy.engine.base.Engine ()\n",
      "2018-01-28 13:50:17,997 INFO sqlalchemy.engine.base.Engine PRAGMA index_list(\"station\")\n",
      "2018-01-28 13:50:17,999 INFO sqlalchemy.engine.base.Engine ()\n",
      "2018-01-28 13:50:18,001 INFO sqlalchemy.engine.base.Engine SELECT sql FROM  (SELECT * FROM sqlite_master UNION ALL   SELECT * FROM sqlite_temp_master) WHERE name = 'station' AND type = 'table'\n",
      "2018-01-28 13:50:18,004 INFO sqlalchemy.engine.base.Engine ()\n"
     ]
    }
   ],
   "source": [
    "Base.prepare(engine, reflect=True)"
   ]
  },
  {
   "cell_type": "code",
   "execution_count": 5,
   "metadata": {},
   "outputs": [
    {
     "data": {
      "text/plain": [
       "['measurement', 'station']"
      ]
     },
     "execution_count": 5,
     "metadata": {},
     "output_type": "execute_result"
    }
   ],
   "source": [
    "Base.classes.keys()"
   ]
  },
  {
   "cell_type": "code",
   "execution_count": 6,
   "metadata": {
    "collapsed": true
   },
   "outputs": [],
   "source": [
    "Measurement = Base.classes.measurement\n",
    "Station = Base.classes.station"
   ]
  },
  {
   "cell_type": "markdown",
   "metadata": {},
   "source": [
    "## Precipitation Analysis"
   ]
  },
  {
   "cell_type": "code",
   "execution_count": 7,
   "metadata": {},
   "outputs": [
    {
     "name": "stdout",
     "output_type": "stream",
     "text": [
      "2018-01-28 13:50:22,007 INFO sqlalchemy.engine.base.Engine PRAGMA table_info(\"SELECT date, SUM(prcp) AS prcp_total FROM measurement WHERE date < '2015-05-01' AND date > '2014-04-30' GROUP BY date \")\n",
      "2018-01-28 13:50:22,010 INFO sqlalchemy.engine.base.Engine ()\n",
      "2018-01-28 13:50:22,012 INFO sqlalchemy.engine.base.Engine SELECT date, SUM(prcp) AS prcp_total FROM measurement WHERE date < '2015-05-01' AND date > '2014-04-30' GROUP BY date \n",
      "2018-01-28 13:50:22,014 INFO sqlalchemy.engine.base.Engine ()\n"
     ]
    }
   ],
   "source": [
    "query = \"SELECT date, SUM(prcp) AS prcp_total FROM measurement WHERE date < '2015-05-01' AND date > '2014-04-30' GROUP BY date \"\n",
    "#result = engine.execute(query)\n",
    "precip_df = pd.read_sql(query, engine)\n",
    "precip_df = precip_df.set_index('date')"
   ]
  },
  {
   "cell_type": "code",
   "execution_count": 8,
   "metadata": {},
   "outputs": [
    {
     "data": {
      "image/png": "[encoded data removed]",
      "text/plain": [
       "<matplotlib.figure.Figure at 0x10b2e5be0>"
      ]
     },
     "metadata": {},
     "output_type": "display_data"
    }
   ],
   "source": [
    "precip_df.plot()\n",
    "plt.xlabel('date')\n",
    "plt.xticks(rotation=45)\n",
    "plt.show()"
   ]
  },
  {
   "cell_type": "code",
   "execution_count": 9,
   "metadata": {},
   "outputs": [
    {
     "data": {
      "text/html": [
       "<div>\n",
       "<style>\n",
       "    .dataframe thead tr:only-child th {\n",
       "        text-align: right;\n",
       "    }\n",
       "\n",
       "    .dataframe thead th {\n",
       "        text-align: left;\n",
       "    }\n",
       "\n",
       "    .dataframe tbody tr th {\n",
       "        vertical-align: top;\n",
       "    }\n",
       "</style>\n",
       "<table border=\"1\" class=\"dataframe\">\n",
       "  <thead>\n",
       "    <tr style=\"text-align: right;\">\n",
       "      <th></th>\n",
       "      <th>prcp_total</th>\n",
       "    </tr>\n",
       "  </thead>\n",
       "  <tbody>\n",
       "    <tr>\n",
       "      <th>count</th>\n",
       "      <td>365.000000</td>\n",
       "    </tr>\n",
       "    <tr>\n",
       "      <th>mean</th>\n",
       "      <td>0.991863</td>\n",
       "    </tr>\n",
       "    <tr>\n",
       "      <th>std</th>\n",
       "      <td>2.536611</td>\n",
       "    </tr>\n",
       "    <tr>\n",
       "      <th>min</th>\n",
       "      <td>0.000000</td>\n",
       "    </tr>\n",
       "    <tr>\n",
       "      <th>25%</th>\n",
       "      <td>0.030000</td>\n",
       "    </tr>\n",
       "    <tr>\n",
       "      <th>50%</th>\n",
       "      <td>0.340000</td>\n",
       "    </tr>\n",
       "    <tr>\n",
       "      <th>75%</th>\n",
       "      <td>1.180000</td>\n",
       "    </tr>\n",
       "    <tr>\n",
       "      <th>max</th>\n",
       "      <td>37.410000</td>\n",
       "    </tr>\n",
       "  </tbody>\n",
       "</table>\n",
       "</div>"
      ],
      "text/plain": [
       "       prcp_total\n",
       "count  365.000000\n",
       "mean     0.991863\n",
       "std      2.536611\n",
       "min      0.000000\n",
       "25%      0.030000\n",
       "50%      0.340000\n",
       "75%      1.180000\n",
       "max     37.410000"
      ]
     },
     "execution_count": 9,
     "metadata": {},
     "output_type": "execute_result"
    }
   ],
   "source": [
    "precip_df.describe()"
   ]
  },
  {
   "cell_type": "markdown",
   "metadata": {},
   "source": [
    "## Station Analysis"
   ]
  },
  {
   "cell_type": "code",
   "execution_count": 10,
   "metadata": {
    "collapsed": true
   },
   "outputs": [],
   "source": [
    "conn = engine.connect()\n",
    "session = Session(bind=conn)"
   ]
  },
  {
   "cell_type": "code",
   "execution_count": 11,
   "metadata": {},
   "outputs": [
    {
     "name": "stdout",
     "output_type": "stream",
     "text": [
      "2018-01-28 13:50:29,236 INFO sqlalchemy.engine.base.Engine BEGIN (implicit)\n",
      "2018-01-28 13:50:29,241 INFO sqlalchemy.engine.base.Engine SELECT count(*) AS count_1 \n",
      "FROM (SELECT station.id AS station_id, station.station AS station_station, station.name AS station_name, station.latitude AS station_latitude, station.longitude AS station_longitude, station.elevation AS station_elevation \n",
      "FROM station) AS anon_1\n",
      "2018-01-28 13:50:29,243 INFO sqlalchemy.engine.base.Engine ()\n"
     ]
    }
   ],
   "source": [
    "station_count = session.query(Station).count()"
   ]
  },
  {
   "cell_type": "code",
   "execution_count": 12,
   "metadata": {},
   "outputs": [
    {
     "name": "stdout",
     "output_type": "stream",
     "text": [
      "2018-01-28 13:50:30,765 INFO sqlalchemy.engine.base.Engine  SELECT station, COUNT(station) AS c FROM measurement GROUP BY station ORDER BY c DESC \n",
      "2018-01-28 13:50:30,768 INFO sqlalchemy.engine.base.Engine ()\n",
      "USC00519281 2772\n",
      "USC00513117 2696\n",
      "USC00519397 2685\n",
      "USC00519523 2572\n",
      "USC00516128 2484\n",
      "USC00514830 1937\n",
      "USC00511918 1932\n",
      "USC00517948 683\n",
      "USC00518838 342\n"
     ]
    }
   ],
   "source": [
    "result = engine.execute(\" SELECT station, COUNT(station) AS c FROM measurement GROUP BY station ORDER BY c DESC \")\n",
    "for r in result:\n",
    "    print(r.station, r.c)\n",
    "#USC00519281 has the most observations with 2772 observations"
   ]
  },
  {
   "cell_type": "code",
   "execution_count": 13,
   "metadata": {},
   "outputs": [
    {
     "name": "stdout",
     "output_type": "stream",
     "text": [
      "2018-01-28 13:50:32,888 INFO sqlalchemy.engine.base.Engine  SELECT tobs FROM measurement WHERE station = 'USC00519281'  \n",
      "2018-01-28 13:50:32,890 INFO sqlalchemy.engine.base.Engine ()\n"
     ]
    }
   ],
   "source": [
    "result = engine.execute(\" SELECT tobs FROM measurement WHERE station = 'USC00519281'  \")\n",
    "tobs_list = []\n",
    "for r in result:\n",
    "    tobs_list.append(r.tobs)"
   ]
  },
  {
   "cell_type": "code",
   "execution_count": 14,
   "metadata": {},
   "outputs": [
    {
     "data": {
      "image/png": "[encoded data removed]",
      "text/plain": [
       "<matplotlib.figure.Figure at 0x10b342438>"
      ]
     },
     "metadata": {},
     "output_type": "display_data"
    }
   ],
   "source": [
    "pd.Series(tobs_list).plot.hist(bins=12)\n",
    "plt.show()"
   ]
  },
  {
   "cell_type": "markdown",
   "metadata": {},
   "source": [
    "## Temperature Analysis"
   ]
  },
  {
   "cell_type": "code",
   "execution_count": 15,
   "metadata": {
    "collapsed": true
   },
   "outputs": [],
   "source": [
    "def calc_temps(start_date, end_date):\n",
    "    max_query = \"SELECT MAX(tobs) AS max_tobs FROM measurement WHERE date > '%s' AND date < '%s' GROUP BY date \"%(start_date, end_date)\n",
    "    max_eng = engine.execute(max_query)\n",
    "    #max_temp feels defined in an awkward way\n",
    "    max_temp = [t.max_tobs for t in max_eng][0]\n",
    "    \n",
    "    min_query = \"SELECT MIN(tobs) AS min_tobs FROM measurement WHERE date > '%s' AND date < '%s' GROUP BY date \"%(start_date, end_date)\n",
    "    min_eng = engine.execute(min_query)\n",
    "    min_temp = [t.min_tobs for t in min_eng][0]\n",
    "    \n",
    "    avg_query = \"SELECT AVG(tobs) AS avg_tobs FROM measurement WHERE date > '%s' AND date < '%s' GROUP BY date \"%(start_date, end_date)\n",
    "    avg_eng = engine.execute(avg_query)\n",
    "    avg_temp = [t.avg_tobs for t in avg_eng][0]\n",
    "    \n",
    "    print( \"The maximum temperature was %d, the minimum temperature was %d, and the average temperature was %d.\"%(max_temp, min_temp, avg_temp))\n",
    "    return( avg_temp, max_temp, min_temp )"
   ]
  },
  {
   "cell_type": "code",
   "execution_count": 16,
   "metadata": {},
   "outputs": [
    {
     "name": "stdout",
     "output_type": "stream",
     "text": [
      "2018-01-28 13:50:41,255 INFO sqlalchemy.engine.base.Engine SELECT MAX(tobs) AS max_tobs FROM measurement WHERE date > '2016-05-01' AND date < '2017-05-01' GROUP BY date \n",
      "2018-01-28 13:50:41,257 INFO sqlalchemy.engine.base.Engine ()\n",
      "2018-01-28 13:50:41,266 INFO sqlalchemy.engine.base.Engine SELECT MIN(tobs) AS min_tobs FROM measurement WHERE date > '2016-05-01' AND date < '2017-05-01' GROUP BY date \n",
      "2018-01-28 13:50:41,268 INFO sqlalchemy.engine.base.Engine ()\n",
      "2018-01-28 13:50:41,277 INFO sqlalchemy.engine.base.Engine SELECT AVG(tobs) AS avg_tobs FROM measurement WHERE date > '2016-05-01' AND date < '2017-05-01' GROUP BY date \n",
      "2018-01-28 13:50:41,279 INFO sqlalchemy.engine.base.Engine ()\n",
      "The maximum temperature was 77, the minimum temperature was 72, and the average temperature was 74.\n"
     ]
    }
   ],
   "source": [
    "avg_temp, max_temp, min_temp = calc_temps( '2016-05-01', '2017-05-01'  )"
   ]
  },
  {
   "cell_type": "code",
   "execution_count": 17,
   "metadata": {},
   "outputs": [
    {
     "data": {
      "image/png": "[encoded data removed]",
      "text/plain": [
       "<matplotlib.figure.Figure at 0x1106b5128>"
      ]
     },
     "metadata": {},
     "output_type": "display_data"
    }
   ],
   "source": [
    "plt.bar([0],avg_temp, yerr = max_temp - min_temp)\n",
    "plt.xlim(-1,1)\n",
    "\n",
    "plt.show()"
   ]
  },
  {
   "cell_type": "code",
   "execution_count": null,
   "metadata": {
    "collapsed": true
   },
   "outputs": [],
   "source": []
  },
  {
   "cell_type": "code",
   "execution_count": null,
   "metadata": {
    "collapsed": true
   },
   "outputs": [],
   "source": []
  },
  {
   "cell_type": "code",
   "execution_count": null,
   "metadata": {
    "collapsed": true
   },
   "outputs": [],
   "source": []
  },
  {
   "cell_type": "code",
   "execution_count": null,
   "metadata": {
    "collapsed": true
   },
   "outputs": [],
   "source": []
  },
  {
   "cell_type": "code",
   "execution_count": null,
   "metadata": {
    "collapsed": true
   },
   "outputs": [],
   "source": []
  }
 ],
 "metadata": {
  "kernelspec": {
   "display_name": "Python 3",
   "language": "python",
   "name": "python3"
  },
  "language_info": {
   "codemirror_mode": {
    "name": "ipython",
    "version": 3
   },
   "file_extension": ".py",
   "mimetype": "text/x-python",
   "name": "python",
   "nbconvert_exporter": "python",
   "pygments_lexer": "ipython3",
   "version": "3.6.2"
  }
 },
 "nbformat": 4,
 "nbformat_minor": 2
}
